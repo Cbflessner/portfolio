{
 "cells": [
  {
   "cell_type": "code",
   "execution_count": 12,
   "metadata": {},
   "outputs": [
    {
     "data": {
      "text/plain": [
       "['https://chicago.suntimes.com/2020/8/14/21368202/calumet-river-army-corps-engineers-chicago-southeast-side-park-environment',\n",
       " 'https://www.foxnews.com/media/chicago-store-owner-is-looted-twice-i-dont-know-what-i-am-going-to-do',\n",
       " 'https://www.foxnews.com/us/chicago-democrat-kim-foxx-looting-riots-raymond-lopez',\n",
       " 'https://www.chicagotribune.com/news/breaking/ct-chicago-looting-court-20200814-hv7kdbzlc5hmdmjkabaebu2yeq-story.html',\n",
       " 'https://patch.com/illinois/chicago/brief-tornado-hits-rogers-park-derecho-blasts-chicago',\n",
       " 'https://www.nbcchicago.com/news/local/chicago-protest-aims-to-shut-down-dan-ryan-expressway-this-weekend/2321821/',\n",
       " 'https://abc7chicago.com/chicago-looting-police-mayor-lori-lightfoot-cpd/6370260/',\n",
       " 'https://wgntv.com/news/chicago-news/police-say-theyre-preparing-for-weekend-to-avoid-repeat-of-downtown-looting/',\n",
       " 'https://nypost.com/2020/08/13/pushback-in-chicago-as-blacks-are-sick-and-tired-of-looters-anarchists/',\n",
       " 'https://www.chicagotribune.com/coronavirus/ct-covid-19-pandemic-chicago-illinois-news-20200814-2uedd64x5rg5xitgzlhy73puxm-story.html']"
      ]
     },
     "execution_count": 12,
     "metadata": {},
     "output_type": "execute_result"
    }
   ],
   "source": [
    "import requests\n",
    "from bs4 import BeautifulSoup as bs\n",
    "import re\n",
    "\n",
    "\n",
    "def non_google_links(href):\n",
    "    article = re.compile('http')\n",
    "    google = re.compile('google')\n",
    "    if href == None:\n",
    "        return False\n",
    "    elif article.search(href) and not google.search(href):\n",
    "        return True\n",
    "    else:\n",
    "        return False\n",
    "\n",
    "def google_top_results(url, n):\n",
    "    page = requests.get(url)\n",
    "    soup = bs(page.content, 'lxml')\n",
    "    main = soup.find(id='main')\n",
    "    links = main.find_all(href=non_google_links)\n",
    "    news = []\n",
    "    for link in links:\n",
    "        clean_link = link.get('href')\n",
    "        regex = re.compile(r'(http[s]?://.*?)&sa')\n",
    "        m = regex.search(clean_link)\n",
    "        news.append(m.group(1))\n",
    "    news = list(set(news))\n",
    "    return news[:n]\n",
    "\n",
    "url = 'https://www.google.com/search?q=chicago&tbm=nws'\n",
    "google_top_results(url, 10)\n",
    "\n",
    "\n"
   ]
  },
  {
   "cell_type": "code",
   "execution_count": 22,
   "metadata": {},
   "outputs": [
    {
     "ename": "TypeError",
     "evalue": "expected string or bytes-like object",
     "output_type": "error",
     "traceback": [
      "\u001b[0;31m---------------------------------------------------------------------------\u001b[0m",
      "\u001b[0;31mTypeError\u001b[0m                                 Traceback (most recent call last)",
      "\u001b[0;32m<ipython-input-22-4825900966c0>\u001b[0m in \u001b[0;36m<module>\u001b[0;34m\u001b[0m\n\u001b[1;32m     18\u001b[0m \u001b[0mresult\u001b[0m\u001b[0;34m\u001b[0m\u001b[0;34m\u001b[0m\u001b[0m\n\u001b[1;32m     19\u001b[0m \u001b[0mlinks\u001b[0m\u001b[0;34m\u001b[0m\u001b[0;34m\u001b[0m\u001b[0m\n\u001b[0;32m---> 20\u001b[0;31m \u001b[0msum\u001b[0m\u001b[0;34m(\u001b[0m\u001b[0mnon_google_links\u001b[0m\u001b[0;34m(\u001b[0m\u001b[0mlinks\u001b[0m\u001b[0;34m)\u001b[0m\u001b[0;34m)\u001b[0m\u001b[0;34m\u001b[0m\u001b[0;34m\u001b[0m\u001b[0m\n\u001b[0m",
      "\u001b[0;32m<ipython-input-12-a92675167e6f>\u001b[0m in \u001b[0;36mnon_google_links\u001b[0;34m(href)\u001b[0m\n\u001b[1;32m      9\u001b[0m     \u001b[0;32mif\u001b[0m \u001b[0mhref\u001b[0m \u001b[0;34m==\u001b[0m \u001b[0;32mNone\u001b[0m\u001b[0;34m:\u001b[0m\u001b[0;34m\u001b[0m\u001b[0;34m\u001b[0m\u001b[0m\n\u001b[1;32m     10\u001b[0m         \u001b[0;32mreturn\u001b[0m \u001b[0;32mFalse\u001b[0m\u001b[0;34m\u001b[0m\u001b[0;34m\u001b[0m\u001b[0m\n\u001b[0;32m---> 11\u001b[0;31m     \u001b[0;32melif\u001b[0m \u001b[0marticle\u001b[0m\u001b[0;34m.\u001b[0m\u001b[0msearch\u001b[0m\u001b[0;34m(\u001b[0m\u001b[0mhref\u001b[0m\u001b[0;34m)\u001b[0m \u001b[0;32mand\u001b[0m \u001b[0;32mnot\u001b[0m \u001b[0mgoogle\u001b[0m\u001b[0;34m.\u001b[0m\u001b[0msearch\u001b[0m\u001b[0;34m(\u001b[0m\u001b[0mhref\u001b[0m\u001b[0;34m)\u001b[0m\u001b[0;34m:\u001b[0m\u001b[0;34m\u001b[0m\u001b[0;34m\u001b[0m\u001b[0m\n\u001b[0m\u001b[1;32m     12\u001b[0m         \u001b[0;32mreturn\u001b[0m \u001b[0;32mTrue\u001b[0m\u001b[0;34m\u001b[0m\u001b[0;34m\u001b[0m\u001b[0m\n\u001b[1;32m     13\u001b[0m     \u001b[0;32melse\u001b[0m\u001b[0;34m:\u001b[0m\u001b[0;34m\u001b[0m\u001b[0;34m\u001b[0m\u001b[0m\n",
      "\u001b[0;31mTypeError\u001b[0m: expected string or bytes-like object"
     ]
    }
   ],
   "source": [
    "import pprint\n",
    "\n",
    "page = requests.get('https://www.google.com/search?q=chicago&tbm=nws')\n",
    "soup = bs(page.content, 'lxml')\n",
    "main = soup.find(id='main')\n",
    "\n",
    "links = []\n",
    "for link in main.find_all('a'):\n",
    "    if link.has_attr('href'):\n",
    "        links.append(link['href'])\n",
    "google_status = []\n",
    "for link in links:\n",
    "    google_status.append(non_google_links(link))\n",
    "\n",
    "# pprint.pprint(links)\n",
    "# print(google_status)\n",
    "result =dict(zip(links,google_status))\n",
    "result\n",
    "links\n",
    "sum(non_google_links(links))"
   ]
  },
  {
   "cell_type": "code",
   "execution_count": 26,
   "metadata": {},
   "outputs": [
    {
     "data": {
      "text/plain": [
       "200"
      ]
     },
     "execution_count": 26,
     "metadata": {},
     "output_type": "execute_result"
    }
   ],
   "source": [
    "url = 'https://www.google.com/search?q=chicago&tbm=nws'\n",
    "page = requests.get(url)\n",
    "page.status_code"
   ]
  }
 ],
 "metadata": {
  "kernelspec": {
   "display_name": "Python 3",
   "language": "python",
   "name": "python3"
  },
  "language_info": {
   "codemirror_mode": {
    "name": "ipython",
    "version": 3
   },
   "file_extension": ".py",
   "mimetype": "text/x-python",
   "name": "python",
   "nbconvert_exporter": "python",
   "pygments_lexer": "ipython3",
   "version": "3.8.2"
  }
 },
 "nbformat": 4,
 "nbformat_minor": 4
}
