{
 "cells": [
  {
   "cell_type": "code",
   "execution_count": 86,
   "metadata": {},
   "outputs": [],
   "source": [
    "import requests\n",
    "from bs4 import BeautifulSoup as bs\n",
    "import re\n",
    "from datetime import date\n",
    "import os.path\n",
    "import os\n",
    "import pprint\n",
    "import pandas as pd\n",
    "\n",
    "\n",
    "def non_google_links(href):\n",
    "    article = re.compile('http')\n",
    "    google = re.compile('google')\n",
    "    if href is None:\n",
    "        return False\n",
    "    elif article.search(href) and not google.search(href):\n",
    "        return True\n",
    "    else:\n",
    "        return False\n",
    "\n",
    "\n",
    "def google_top_results(n, ext):\n",
    "    url = 'https://www.google.com' + ext\n",
    "    page = requests.get(url)\n",
    "    soup = bs(page.content, 'lxml')\n",
    "    main = soup.find(id='main')\n",
    "    links = main.find_all(href=non_google_links)\n",
    "    news = []\n",
    "    for link in links:\n",
    "        clean_link = link.get('href')\n",
    "        regex = re.compile(r'(http[s]?://.*?)&sa')\n",
    "        m = regex.search(clean_link)\n",
    "        news.append(m.group(1))\n",
    "    news = pd.Series(news)\n",
    "    news = pd.Series(news.unique())\n",
    "    return news[:n]\n",
    "\n",
    "def html_to_string(url):\n",
    "    # connect to url and transrom to soup\n",
    "    page = requests.get(url)\n",
    "    soup = bs(page.content, 'lxml')\n",
    "    # Get rid of links in page\n",
    "    links = soup('a')\n",
    "    for link in links:\n",
    "        link.decompose()\n",
    "    #extract the text\n",
    "    text = soup.text\n",
    "    return text\n",
    "\n",
    "def clean_news(text, words4paragraph):\n",
    "    #break text into elements based on blank lines\n",
    "    regex = re.compile('^[\\n\\r]', re.MULTILINE)\n",
    "    clean_text = pd.Series(regex.split(text))\n",
    "#     cleaner = clean_text.replace('\\t', '').replace('\\n','').replace('\\r', '')\n",
    "    cleaner = clean_text.str.replace(' +', ' ')\n",
    "    clean = cleaner[cleaner.str.count(' ')>=words4paragraph]\n",
    "    return clean\n",
    "\n",
    "\n",
    "def save_file(type_of_file, num, url, text):\n",
    "    today = str(date.today())\n",
    "    num += 1\n",
    "    file_name = type_of_file+'_'+str(num)+'_'+today+'.txt'\n",
    "    if os.path.isfile(file_name):\n",
    "        os.remove(file_name)\n",
    "    f = open(file_name, 'a')\n",
    "    f.write(url+'\\n')\n",
    "    for k in text:\n",
    "        f.write(k + '\\n\\n')\n",
    "    f.close"
   ]
  },
  {
   "cell_type": "code",
   "execution_count": 87,
   "metadata": {},
   "outputs": [
    {
     "data": {
      "text/plain": [
       "' Sections xml:space=\"preserve\"> Search xml:space=\"preserve\"> Advertisement Advertisement Coronavirus in Illinois updates: Rate of people testing positive for COVID-19 remains high in Downstate counties despite new limits By Chicago Tribune | Aug 25, 2020 at 9:51 AM The rate of people testing positive for the coronavirus remains high in several Downstate counties despite new restrictions placed on public gatherings, according to public health officials. The “mitigation efforts” were imposed last Tuesday after the Metro East region near St. Louis reported a seven-day average positivity rate of above 8% for three consecutive days. As of Monday, the region’s seven-day positivity rate was 9.4%, down only slightly from the 9.6% reported on Sunday. Advertisement The Illinois Department of Public Health said increased restrictions were likely coming to the region this week, including the closure of indoor services at bars and restaurants. But officials say that action has been delayed after calls with local politicians. For now, bars and cannot offer indoor service. For those businesses with outdoor service, tables outdoors are required to be six feet apart, and customers are not allowed to congregate indoors or outdoors while waiting for a table or exiting. In addition, meetings, social events and gatherings will be limited to 25 guests or 25% of room capacity. Advertisement The same r on Wednesday after the area reached an 8% positivity rate for COVID-19 over three days. The limits do not apply to schools. The move comes as the state reported 1,612 confirmed cases of COVID-19 and eight additional deaths on Monday, bringing the total number of reported cases to 221,790 and the number of fatalities to 7,888. Health officials say 36,155 tests were conducted, bringing the seven-day testing positivity rate for the entire state to 4.2% COVID-19 in Illinois by the numbers: COVID-19 cases in Illinois by ZIP code: Illinois’ new COVID-19 plan: Illinois coronavirus graphs: Here’s what’s happening Tuesday with COVID-19 in the Chicago area and Illinois: 9:50 a.m.: Nearly 1 in 4 ‘temporary’ layoffs during the coronavirus pandemic may end up being permanent The rehiring of temporarily laid-off workers will continue to bolster the U.S. labor market’s recovery in the months ahead, but Goldman Sachs Group expects almost a quarter of those layoffs to become permanent. In the early months of the pandemic, employers shed more than 22 million people from their payrolls. The staggering figure had a small silver lining: the majority of those layoffs were billed as temporary. More than 18 million people were classified as temporarily unemployed in April, the most on record. When state economies began to reopen, the rehiring of many of those workers helped drive the labor market\\'s rebound in May, June and July. And with more than 9.2 million unemployed still on temporary layoff, \"the labor market seems poised for additional large job gains later this year,\" Joseph Briggs, an economist at Goldman Sachs, wrote in a research note on Friday. In some ways, the staggering number of temporarily laid off workers could be a tailwind for the recovery. These workers tend to face better hiring prospects, and transitions to permanent unemployment remain relatively low. In fact, Goldman expects rehires to account for most of the 5.6 million net job gains they anticipate later this year. However, \"other patterns suggest that rehiring prospects for temporarily laid-off workers started to deteriorate in July,\" Briggs wrote. Goldman Sachs now anticipates that almost a quarter of the temporary layoffs will become permanent. Some 2 million of those individuals could remain unemployed well into 2021. . —Bloomberg News 9:45 a.m.: Many Americans shoring up personal finances during pandemic downturn, poll shows It’s the paradox of a pandemic that has crushed the U.S. economy: 12.9 million people have lost a job and thousands of businesses have closed, yet the personal finances of many Americans have remained strong — and in some ways have even improved. A new poll from The Associated Press-NORC Center for Public Affairs Research finds that 45% of Americans say they’re setting aside more money than usual. Twenty-six percent are paying down debt faster than they were before the coronavirus pandemic. In total, about half of Americans say they’ve either saved more or paid down debt since the outbreak began. Advertisement The findings highlight the unique nature of the current crisis. Nearly $3 trillion in government aid in the form of\\xa0,\\xa0\\xa0and\\xa0\\xa0helped cushion against the fastest economic downturn in American history. Meanwhile, health fears and mandated closures prompted many Americans to spend less on restaurant meals, clothing and travel. About two-thirds say they’re spending less than usual during the pandemic. Since February, there has been a $1.3 trillion jump in money kept in checking accounts — a 56% increase tracked by the Federal Reserve. While the greater savings helps to keep families more financially secure, it may also limit the scope of any recovery in a country that relies on consumer spending for growth. . —Associated Press 9 a.m.: A new West Loop tavern is ready to open, as soon as Chicago relaxes its coronavirus rules The new Grapes and Grains has everything you might want in a bar. Intimate, dimly-lit atmosphere, highlighted by crystal chandeliers and comfy seating. A grand piano for live music. A strong beverage program of cocktails, spirits and a sophisticated wine list. And a location that’s just steps away from The Hoxton and Nobu hotels, and the Randolph Street and Fulton Market dining districts. The decor is installed, the glassware polished, the piano, presumably, tuned. All that’s missing? Permission. Grapes and Grains (GG’s, as partners Dimitri Anastos and Matthew McCahill call it) has a tavern license, and\\xa0, can’t open its doors. “It’s a big unnerving, yes,” McCahill said. “It’s frustrating, but if that’s what the mayor wants to do, we have to support her. We have the responsibility of being aware of safety.” . —Phil Vettel 8:50 a.m.: FDA ‘grossly misrepresented’ blood plasma data when emergency authorization of COVID-19 treatment announced, scientists say At a news conference Sunday\\xa0\\xa0for hospitalized COVID-19 patients, President Donald Trump and two of his top health officials cited the same statistic: that the treatment had reduced deaths by 35%. Advertisement Trump called it a “tremendous” number. His health and human services secretary, Alex Azar, a former pharmaceutical executive, said, “I don’t want you to gloss over this number.” And Dr. Stephen M. Hahn, commissioner of the Food and Drug Administration, said 35 out of 100 COVID-19 patients “would have been saved because of the administration of plasma.” Advertisement But scientists were taken aback by the way the administration framed this data, which appeared to have been calculated based on a small subgroup of hospitalized COVID-19 patients in a Mayo Clinic study: those who were under 80 years old, not on ventilators and received plasma known to contain high levels of virus-fighting antibodies within three days of diagnosis. What’s more, many experts — including a scientist who worked on the Mayo Clinic study — were bewildered about where the statistic came from. The number was not mentioned in the\\xa0, nor was it in a\\xa0. It was not in an\\xa0\\xa0that has been frequently cited by the administration. “For the first time ever, I feel like official people in communications and people at the FDA grossly misrepresented data about a therapy,” said Dr. Walid Gellad, who leads the Center for Pharmaceutical Policy and Prescribing at the University of Pittsburgh. . —The New York Times 6:45 a.m.: East Chicago schools cut 90 jobs after state funding for virtual learning slashed A Northwest Indiana school district has laid off 90 employees because of a reduction in state funding after a move to virtual learning. The School City of East Chicago school board unanimously approved the staffing cuts in a special session last week. Among those cut were 23 janitors, 18 special education paraprofessionals, 16 security services staff and 13 bus aides. Superintendent Dee-Etta Wright said the layoffs are intended to be temporary while the district uses virtual learning for at least the first nine weeks of the school year. The superintendent said union leadership was notified two weeks ago that layoffs would be coming as a means to prepare for potential reductions in the school city’s per pupil funding. A state law ensures only 85% of funding for students receiving half or more of their instruction virtually. “It is frustrating,” School Board President Vanessa Hernandez-Orange said. “This is people’s livelihoods we’re dealing with.” —Associated Press 6:30 a.m.: KFC scraps use of ‘Finger Lickin’ Good’ in its ads amid coronavirus pandemic Fried chicken chain KFC is after 64 years because use of the slogan \"doesn\\'t feel quite right.\" According to the Centers for Disease Control and Prevention, one of the steps people can take to protect themselves from spreading COVID-19 is washing hands often, and keeping hands away from your mouth, nose and eyes. KFC said the slogan will not go away forever. The chain said they will bring it back “when the time is right.” —USA Today Breaking coronavirus news Stay up to date with the latest information on coronavirus with our In case you missed it Here’s five stories from Monday related to COVID-19. CPS will charge thousands in tuition for — day care not included. Amid Postal Service changes, more than at Cook County Health. Doctors at the University of Illinois at Chicago on Monday began giving as part of a clinical trial of one of the new COVID-19 vaccine candidates. A week after opening for in-person classes, due to COVID-19 cases. 2 Chicago restaurants . Recommended on Chicago Tribune Advertisement Latest Coronavirus 15m 50m 1h Advertisement Advertisement Most Read on Chicago Tribune 37m 1h 3h Advertisement CONNECT TRIBUNE PUBLISHING COMPANY INFO Copyright © 2020, Chicago Tribune \\n'"
      ]
     },
     "execution_count": 87,
     "metadata": {},
     "output_type": "execute_result"
    }
   ],
   "source": [
    "f = open('google_news/test/google_news_1_2020-08-25.txt', 'r')\n",
    "text = f.read()\n",
    "news = clean_news(text, 20)\n",
    "save_file('google_news/google_news', 1, 'www.fuckoff.com', news)\n",
    "f.close()\n",
    "\n",
    "test = news.str.replace(' +', ' ')\n",
    "news[1]\n",
    "# test[1]"
   ]
  },
  {
   "cell_type": "code",
   "execution_count": 24,
   "metadata": {},
   "outputs": [
    {
     "name": "stdout",
     "output_type": "stream",
     "text": [
      "RangeIndex(start=0, stop=3, step=1)\n"
     ]
    }
   ],
   "source": [
    "print(google_news.index)"
   ]
  }
 ],
 "metadata": {
  "kernelspec": {
   "display_name": "Python 3",
   "language": "python",
   "name": "python3"
  },
  "language_info": {
   "codemirror_mode": {
    "name": "ipython",
    "version": 3
   },
   "file_extension": ".py",
   "mimetype": "text/x-python",
   "name": "python",
   "nbconvert_exporter": "python",
   "pygments_lexer": "ipython3",
   "version": "3.8.2"
  }
 },
 "nbformat": 4,
 "nbformat_minor": 4
}
