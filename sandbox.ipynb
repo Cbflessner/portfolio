{
 "cells": [
  {
   "cell_type": "code",
   "execution_count": 86,
   "metadata": {},
   "outputs": [],
   "source": [
    "import requests\n",
    "from bs4 import BeautifulSoup as bs\n",
    "import re\n",
    "from datetime import date\n",
    "import os.path\n",
    "import os\n",
    "import pprint\n",
    "import pandas as pd\n",
    "\n",
    "\n",
    "def non_google_links(href):\n",
    "    article = re.compile('http')\n",
    "    google = re.compile('google')\n",
    "    if href is None:\n",
    "        return False\n",
    "    elif article.search(href) and not google.search(href):\n",
    "        return True\n",
    "    else:\n",
    "        return False\n",
    "\n",
    "\n",
    "def google_top_results(n, ext):\n",
    "    url = 'https://www.google.com' + ext\n",
    "    page = requests.get(url)\n",
    "    soup = bs(page.content, 'lxml')\n",
    "    main = soup.find(id='main')\n",
    "    links = main.find_all(href=non_google_links)\n",
    "    news = []\n",
    "    for link in links:\n",
    "        clean_link = link.get('href')\n",
    "        regex = re.compile(r'(http[s]?://.*?)&sa')\n",
    "        m = regex.search(clean_link)\n",
    "        news.append(m.group(1))\n",
    "    news = pd.Series(news)\n",
    "    news = pd.Series(news.unique())\n",
    "    return news[:n]\n",
    "\n",
    "def html_to_string(url):\n",
    "    # connect to url and transrom to soup\n",
    "    page = requests.get(url)\n",
    "    soup = bs(page.content, 'lxml')\n",
    "    # Get rid of links in page\n",
    "    links = soup('a')\n",
    "    for link in links:\n",
    "        link.decompose()\n",
    "    #extract the text\n",
    "    text = soup.text\n",
    "    return text\n",
    "\n",
    "def clean_news(text, words4paragraph):\n",
    "    #break text into elements based on blank lines\n",
    "    regex = re.compile('^[\\n\\r]', re.MULTILINE)\n",
    "    clean_text = pd.Series(regex.split(text))\n",
    "#     cleaner = clean_text.replace('\\t', '').replace('\\n','').replace('\\r', '')\n",
    "    cleaner = clean_text.str.replace(' +', ' ')\n",
    "    clean = cleaner[cleaner.str.count(' ')>=words4paragraph]\n",
    "    return clean\n",
    "\n",
    "\n",
    "def save_file(type_of_file, num, url, text):\n",
    "    today = str(date.today())\n",
    "    num += 1\n",
    "    file_name = type_of_file+'_'+str(num)+'_'+today+'.txt'\n",
    "    if os.path.isfile(file_name):\n",
    "        os.remove(file_name)\n",
    "    f = open(file_name, 'a')\n",
    "    f.write(url+'\\n')\n",
    "    for k in text:\n",
    "        f.write(k + '\\n\\n')\n",
    "    f.close"
   ]
  },
  {
   "cell_type": "code",
   "execution_count": 89,
   "metadata": {},
   "outputs": [
    {
     "data": {
      "text/plain": [
       "18"
      ]
     },
     "execution_count": 89,
     "metadata": {},
     "output_type": "execute_result"
    }
   ],
   "source": [
    "url = 'http://www.google.com'\n",
    "page = requests.get(url)\n",
    "soup = bs(page.content, 'lxml')\n",
    "# clean_soup = gs.remove_links(soup)\n",
    "links = soup('a')\n",
    "len(links)\n"
   ]
  }
 ],
 "metadata": {
  "kernelspec": {
   "display_name": "Python 3",
   "language": "python",
   "name": "python3"
  },
  "language_info": {
   "codemirror_mode": {
    "name": "ipython",
    "version": 3
   },
   "file_extension": ".py",
   "mimetype": "text/x-python",
   "name": "python",
   "nbconvert_exporter": "python",
   "pygments_lexer": "ipython3",
   "version": "3.8.2"
  }
 },
 "nbformat": 4,
 "nbformat_minor": 4
}
