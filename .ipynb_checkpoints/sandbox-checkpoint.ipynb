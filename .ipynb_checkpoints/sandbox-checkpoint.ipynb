{
 "cells": [
  {
   "cell_type": "code",
   "execution_count": 22,
   "metadata": {},
   "outputs": [],
   "source": [
    "import requests\n",
    "from bs4 import BeautifulSoup as bs\n",
    "import re\n",
    "from datetime import date\n",
    "import os.path\n",
    "import os\n",
    "import pprint\n",
    "import pandas as pd\n",
    "\n",
    "\n",
    "def non_google_links(href):\n",
    "    article = re.compile('http')\n",
    "    google = re.compile('google')\n",
    "    if href is None:\n",
    "        return False\n",
    "    elif article.search(href) and not google.search(href):\n",
    "        return True\n",
    "    else:\n",
    "        return False\n",
    "\n",
    "\n",
    "def google_top_results(n, ext):\n",
    "    url = 'https://www.google.com' + ext\n",
    "    page = requests.get(url)\n",
    "    soup = bs(page.content, 'lxml')\n",
    "    main = soup.find(id='main')\n",
    "    links = main.find_all(href=non_google_links)\n",
    "    news = []\n",
    "    for link in links:\n",
    "        clean_link = link.get('href')\n",
    "        regex = re.compile(r'(http[s]?://.*?)&sa')\n",
    "        m = regex.search(clean_link)\n",
    "        news.append(m.group(1))\n",
    "    news = pd.Series(news)\n",
    "    news = pd.Series(news.unique())\n",
    "    return news[:n]\n",
    "\n",
    "def clean_news(url, words4paragraph):\n",
    "    # connect to url and transrom to soup\n",
    "    page = requests.get(url)\n",
    "    soup = bs(page.content, 'lxml')\n",
    "    # Get rid of links in page\n",
    "    links = soup('a')\n",
    "    for link in links:\n",
    "        link.decompose()\n",
    "    #extract the text\n",
    "    text = soup.text\n",
    "    #break text into elements based on blank lines\n",
    "    regex = re.compile('^[\\n\\r]', re.MULTILINE)\n",
    "    clean_text = regex.split(text)\n",
    "    cleaner = [p.replace('\\t', '').replace('\\n','').replace('\\r', '') for p in clean_text]\n",
    "    clean = {p : str(len(p.split())) for p in cleaner if len(p.split())>=words4paragraph}\n",
    "    return clean\n",
    "\n",
    "\n",
    "def save_file(type_of_file, num, url, text):\n",
    "    today = str(date.today())\n",
    "    num += 1\n",
    "    file_name = type_of_file+'_'+str(num)+'_'+today+'.txt'\n",
    "    if os.path.isfile(file_name):\n",
    "        os.remove(file_name)\n",
    "    f = open(file_name, 'a')\n",
    "    f.write(url+'\\n')\n",
    "    for k in text:\n",
    "        f.write(k+ '\\n' + text[k] + '\\n\\n')\n",
    "    f.close"
   ]
  },
  {
   "cell_type": "code",
   "execution_count": 23,
   "metadata": {},
   "outputs": [
    {
     "name": "stdout",
     "output_type": "stream",
     "text": [
      "0    https://www.chicagotribune.com/coronavirus/ct-...\n",
      "1    https://www.nbcchicago.com/news/local/chicago-...\n",
      "2    https://news.wttw.com/2020/08/25/aldermen-adva...\n",
      "dtype: object\n"
     ]
    }
   ],
   "source": [
    "import google_scraper as gs\n",
    "import os.path\n",
    "\n",
    "google_news = google_top_results(3, '/search?q=chicago&tbm=nws')\n",
    "for url in google_news:\n",
    "    print(url.index)\n",
    "#     news = gs.clean_news(url, 20)\n",
    "#     gs.save_file('google_news/google_news', url.index, url, news)\n",
    "print(google_news)\n",
    "\n"
   ]
  },
  {
   "cell_type": "code",
   "execution_count": 24,
   "metadata": {},
   "outputs": [
    {
     "name": "stdout",
     "output_type": "stream",
     "text": [
      "RangeIndex(start=0, stop=3, step=1)\n"
     ]
    }
   ],
   "source": [
    "print(google_news.index)"
   ]
  }
 ],
 "metadata": {
  "kernelspec": {
   "display_name": "Python 3",
   "language": "python",
   "name": "python3"
  },
  "language_info": {
   "codemirror_mode": {
    "name": "ipython",
    "version": 3
   },
   "file_extension": ".py",
   "mimetype": "text/x-python",
   "name": "python",
   "nbconvert_exporter": "python",
   "pygments_lexer": "ipython3",
   "version": "3.8.2"
  }
 },
 "nbformat": 4,
 "nbformat_minor": 4
}
